{
 "cells": [
  {
   "cell_type": "code",
   "execution_count": 4,
   "metadata": {},
   "outputs": [
    {
     "name": "stdout",
     "output_type": "stream",
     "text": [
      "Password is:  1^~3aFl5fP9E\n"
     ]
    }
   ],
   "source": [
    "# Question 1:\n",
    "# Create a program to generate a password\n",
    "# length 12\n",
    "# 6 random == \"A-Z a-z\"\n",
    "# 4 --> digits\n",
    "# 2 -- > special characters\n",
    "# Expected Output:\n",
    "# $ji12kt56yU#\n",
    "# Not acceptable output:\n",
    "# whiter1565#$\n",
    "# Note: Output should be a mix of all the things mentioned above.\n",
    "\n",
    "import random\n",
    "import string\n",
    "\n",
    "def gen_password(letter_count,digit_count,punc_count):\n",
    "    password = ''.join((random.choice(string.ascii_letters) for i in range(letter_count)))\n",
    "    password+= ''.join((random.choice(string.digits) for i in range(digit_count)))\n",
    "    password+= ''.join((random.choice(string.punctuation) for i in range(punc_count)))\n",
    "    \n",
    "    # Convert string to list and shuffle it to mix letters and digits\n",
    "    password_list = list(password)\n",
    "    random.shuffle(password_list)\n",
    "    final_password = ''.join(password_list)\n",
    "    return final_password\n",
    "\n",
    "print(\"Password is: \", gen_password(6,4,2))\n",
    "    \n",
    "                       "
   ]
  },
  {
   "cell_type": "code",
   "execution_count": null,
   "metadata": {},
   "outputs": [],
   "source": []
  }
 ],
 "metadata": {
  "kernelspec": {
   "display_name": "Python 3",
   "language": "python",
   "name": "python3"
  },
  "language_info": {
   "codemirror_mode": {
    "name": "ipython",
    "version": 3
   },
   "file_extension": ".py",
   "mimetype": "text/x-python",
   "name": "python",
   "nbconvert_exporter": "python",
   "pygments_lexer": "ipython3",
   "version": "3.8.5"
  }
 },
 "nbformat": 4,
 "nbformat_minor": 4
}
