{
  "nbformat": 4,
  "nbformat_minor": 0,
  "metadata": {
    "colab": {
      "name": "Day-2 Assignment.ipynb",
      "provenance": [],
      "authorship_tag": "ABX9TyN6j8qwaYvR6LprIZxpSHaE",
      "include_colab_link": true
    },
    "kernelspec": {
      "name": "python3",
      "display_name": "Python 3"
    }
  },
  "cells": [
    {
      "cell_type": "markdown",
      "metadata": {
        "id": "view-in-github",
        "colab_type": "text"
      },
      "source": [
        "<a href=\"https://colab.research.google.com/github/Hanu-Vemu/LetsUpgrade/blob/master/Day_2_Assignment.ipynb\" target=\"_parent\"><img src=\"https://colab.research.google.com/assets/colab-badge.svg\" alt=\"Open In Colab\"/></a>"
      ]
    },
    {
      "cell_type": "markdown",
      "metadata": {
        "id": "UcoCvM1osXeE",
        "colab_type": "text"
      },
      "source": [
        "**Question-1 >> List and its default functions**"
      ]
    },
    {
      "cell_type": "code",
      "metadata": {
        "id": "HGAQLs7ysYlK",
        "colab_type": "code",
        "colab": {
          "base_uri": "https://localhost:8080/",
          "height": 136
        },
        "outputId": "0b7ff05f-b8cc-4841-f052-591017afbf55"
      },
      "source": [
        "lst = [10, 2.5, 'anil', 6]\n",
        "lst1 = [2, 3 , 6 , 7]\n",
        "\n",
        "lst.append(5)\n",
        "print('append func o/p -', lst)\n",
        "\n",
        "lst.extend(lst1)\n",
        "print('extend func o/p -', lst)\n",
        "\n",
        "print('count func o/p -', lst.count(6))\n",
        "\n",
        "lst.index(5)\n",
        "print('index func o/p -', lst)\n",
        "\n",
        "lst.pop()\n",
        "print('pop func o/p -', lst)\n",
        "\n",
        "lst.remove(3)\n",
        "print('remove func o/p -', lst)\n",
        "\n",
        "lst.insert(1, \"raja\")\n",
        "print('inster func o/p -', lst)\n",
        "\n",
        "#lst.clear()"
      ],
      "execution_count": 31,
      "outputs": [
        {
          "output_type": "stream",
          "text": [
            "append func o/p - [10, 2.5, 'anil', 6, 5]\n",
            "extend func o/p - [10, 2.5, 'anil', 6, 5, 2, 3, 6, 7]\n",
            "count func o/p - 2\n",
            "index func o/p - [10, 2.5, 'anil', 6, 5, 2, 3, 6, 7]\n",
            "pop func o/p - [10, 2.5, 'anil', 6, 5, 2, 3, 6]\n",
            "remove func o/p - [10, 2.5, 'anil', 6, 5, 2, 6]\n",
            "inster func o/p - [10, 'raja', 2.5, 'anil', 6, 5, 2, 6]\n"
          ],
          "name": "stdout"
        }
      ]
    },
    {
      "cell_type": "markdown",
      "metadata": {
        "id": "TpYT9-goCeZW",
        "colab_type": "text"
      },
      "source": [
        "**Question-2 >> Dictionaries and its default functions**"
      ]
    },
    {
      "cell_type": "code",
      "metadata": {
        "id": "nhcgU_wrCh90",
        "colab_type": "code",
        "colab": {
          "base_uri": "https://localhost:8080/",
          "height": 170
        },
        "outputId": "4a04b227-a5eb-4e26-d011-99020cb7a838"
      },
      "source": [
        "my_dict = {\n",
        "  \"name\": \"hanu\",\n",
        "  \"qual\": \"B.Tech\",\n",
        "  \"dob\": 1994\n",
        "}\n",
        "print('original dictionary -', my_dict)\n",
        "\n",
        "dict_1 =my_dict.copy()\n",
        "print('copy func o/p -', dict_1)\n",
        "\n",
        "print('keys func o/p -', my_dict.keys())\n",
        "\n",
        "print('values func o/p -', my_dict.values())\n",
        "\n",
        "print('get func o/p -', my_dict.get(\"name\"))\n",
        "\n",
        "print('items func o/p -', my_dict.items())\n",
        "\n",
        "my_dict.pop(\"qual\")\n",
        "print('pop func o/p -', my_dict)\n",
        "\n",
        "dict_1.popitem()\n",
        "print('popitem func o/p -', dict_1)\n",
        "\n",
        "my_dict.update({\"gender\": \"Male\"})\n",
        "print('update func o/p -', my_dict)\n"
      ],
      "execution_count": 51,
      "outputs": [
        {
          "output_type": "stream",
          "text": [
            "original dictionary - {'name': 'hanu', 'qual': 'B.Tech', 'dob': 1994}\n",
            "copy func o/p - {'name': 'hanu', 'qual': 'B.Tech', 'dob': 1994}\n",
            "keys func o/p - dict_keys(['name', 'qual', 'dob'])\n",
            "values func o/p - dict_values(['hanu', 'B.Tech', 1994])\n",
            "get func o/p - hanu\n",
            "items func o/p - dict_items([('name', 'hanu'), ('qual', 'B.Tech'), ('dob', 1994)])\n",
            "pop func o/p - {'name': 'hanu', 'dob': 1994}\n",
            "popitem func o/p - {'name': 'hanu', 'qual': 'B.Tech'}\n",
            "update func o/p - {'name': 'hanu', 'dob': 1994, 'gender': 'Male'}\n"
          ],
          "name": "stdout"
        }
      ]
    },
    {
      "cell_type": "markdown",
      "metadata": {
        "id": "A-32jX9QJnqo",
        "colab_type": "text"
      },
      "source": [
        "**Question-3 >> Sets and its default functions**"
      ]
    },
    {
      "cell_type": "code",
      "metadata": {
        "id": "EpjrbuRSJ3Xa",
        "colab_type": "code",
        "colab": {
          "base_uri": "https://localhost:8080/",
          "height": 170
        },
        "outputId": "b1715c3c-146b-4a25-ca29-ed25f0625f46"
      },
      "source": [
        "fruit_set = {\"apple\", \"banana\", \"mango\"}\n",
        "oth_fruits = {'cherry', 'Avocado', 'Strawberries', 'apple'}\n",
        "\n",
        "fruit_set.add(\"grapes\")\n",
        "print('add func o/p -', fruit_set)\n",
        "\n",
        "set_1 = fruit_set.copy()\n",
        "print('copy func o/p -', fruit_set)\n",
        "\n",
        "print('difference func o/p -', fruit_set.difference(oth_fruits))\n",
        "\n",
        "fruit_set.difference_update(oth_fruits)\n",
        "print('diff-update func o/p -', fruit_set) \n",
        "\n",
        "fruit_set.update(oth_fruits)\n",
        "print('update func o/p -', fruit_set)\n",
        "\n",
        "fruit_set.remove('Avocado')\n",
        "print('remove func o/p -', fruit_set)\n",
        "\n",
        "print('intersection func o/p -', fruit_set.intersection(oth_fruits))\n",
        "\n",
        "print('isdisjoint func o/p -', fruit_set.isdisjoint(oth_fruits))\n",
        "\n",
        "print('issubset func o/p -', fruit_set.issubset(oth_fruits))"
      ],
      "execution_count": 67,
      "outputs": [
        {
          "output_type": "stream",
          "text": [
            "add func o/p - {'grapes', 'banana', 'mango', 'apple'}\n",
            "copy func o/p - {'grapes', 'banana', 'mango', 'apple'}\n",
            "difference func o/p - {'grapes', 'banana', 'mango'}\n",
            "diff-update func o/p - {'grapes', 'banana', 'mango'}\n",
            "update func o/p - {'Avocado', 'cherry', 'Strawberries', 'grapes', 'banana', 'mango', 'apple'}\n",
            "remove func o/p - {'cherry', 'Strawberries', 'grapes', 'banana', 'mango', 'apple'}\n",
            "intersection func o/p - {'cherry', 'Strawberries', 'apple'}\n",
            "isdisjoint func o/p - False\n",
            "issubset func o/p - False\n"
          ],
          "name": "stdout"
        }
      ]
    },
    {
      "cell_type": "markdown",
      "metadata": {
        "id": "59yuuTMuPOHA",
        "colab_type": "text"
      },
      "source": [
        "**Question-4 >> Tuples and its default functions**"
      ]
    },
    {
      "cell_type": "code",
      "metadata": {
        "id": "18m9NybtPS_W",
        "colab_type": "code",
        "colab": {
          "base_uri": "https://localhost:8080/",
          "height": 51
        },
        "outputId": "b1a9df27-172a-4ac9-b5b4-595105c665be"
      },
      "source": [
        "my_tuple = ('B.Tech', 'M.Tech', 'MBA', 'M.Tech')\n",
        "\n",
        "print('index method o/p -', my_tuple.index('M.Tech'))\n",
        "\n",
        "print('count method o/p -', my_tuple.count('M.Tech'))\n"
      ],
      "execution_count": 73,
      "outputs": [
        {
          "output_type": "stream",
          "text": [
            "index func o/p - 1\n",
            "count func o/p - 2\n"
          ],
          "name": "stdout"
        }
      ]
    },
    {
      "cell_type": "markdown",
      "metadata": {
        "id": "E9-AeHqMREsm",
        "colab_type": "text"
      },
      "source": [
        "**Question-5 >> Strings and its default functions**"
      ]
    },
    {
      "cell_type": "code",
      "metadata": {
        "id": "3F2mdJgrRokP",
        "colab_type": "code",
        "colab": {
          "base_uri": "https://localhost:8080/",
          "height": 204
        },
        "outputId": "355a0132-8dbb-48e7-b7a1-03d11aaae876"
      },
      "source": [
        "my_str = 'tHis Is my aSSignment'\n",
        "\n",
        "print('capitalize method o/p -', my_str.capitalize())\n",
        "\n",
        "print('casefold method o/p -', my_str.casefold())\n",
        "\n",
        "print('center method o/p -', my_str.center(50, '/'))\n",
        "\n",
        "print('count method o/p -', my_str.count('is'))\n",
        "\n",
        "print('upper method o/p -', my_str.upper())\n",
        "\n",
        "print('lower method o/p -', my_str.lower())\n",
        "\n",
        "print('title method o/p -', my_str.title())\n",
        "\n",
        "print('endswith method o/p -', my_str.endswith('aSSignment'))\n",
        "\n",
        "print('find method o/p -', my_str.find('a'))\n",
        "\n",
        "print('find method o/p -', my_str.split())\n"
      ],
      "execution_count": 97,
      "outputs": [
        {
          "output_type": "stream",
          "text": [
            "capitalize method o/p - This is my assignment\n",
            "casefold method o/p - this is my assignment\n",
            "center method o/p - //////////////tHis Is my aSSignment///////////////\n",
            "count method o/p - 1\n",
            "upper method o/p - THIS IS MY ASSIGNMENT\n",
            "lower method o/p - this is my assignment\n",
            "title method o/p - This Is My Assignment\n",
            "endswith method o/p - True\n",
            "find method o/p - 11\n",
            "find method o/p - ['tHis', 'Is', 'my', 'aSSignment']\n",
            "find method o/p - ['tHis Is my aSSignment']\n"
          ],
          "name": "stdout"
        }
      ]
    }
  ]
}