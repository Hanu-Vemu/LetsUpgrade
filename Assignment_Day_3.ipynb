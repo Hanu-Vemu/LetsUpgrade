{
 "cells": [
  {
   "cell_type": "code",
   "execution_count": 1,
   "metadata": {},
   "outputs": [],
   "source": [
    "# Question 1\n",
    "# Find all occurrences of a given item in the list\n",
    "# I. list3 = [\"192.168.10.9\", \"192.168.10.4\", \"192.168.10.11\", \"192.168.10.35\"]\n",
    "# def fun1(x):\n",
    "# ???\n",
    "# list3.sort(key = fun1)\n",
    "# print (list3)\n",
    "# Output\n",
    "# ['192.168.10.4', '192.168.10.9', '192.168.10.11', '192.168.10.35']\n",
    "\n",
    "list3 = [\"192.168.10.9\", \"192.168.10.4\", \"192.168.10.11\", \"192.168.10.35\"]\n",
    "def fun1(x):\n",
    "    res=[item for item in list3 if all((y in x)for y in x)]\n",
    "    res.sort(key=fun1)\n",
    "    return res\n",
    "\n",
    "fun1(['192']) "
   ]
  },
  {
   "cell_type": "code",
   "execution_count": null,
   "metadata": {},
   "outputs": [],
   "source": []
  },
  {
   "cell_type": "code",
   "execution_count": 15,
   "metadata": {},
   "outputs": [
    {
     "data": {
      "text/plain": [
       "[1, 1, 1, 1, 1, 1, 2, 2, 2, 3, 3, 3, 21, 24, 45, 0, 0, 0, 0, 0, 0]"
      ]
     },
     "execution_count": 15,
     "metadata": {},
     "output_type": "execute_result"
    }
   ],
   "source": [
    "# list1 = [1,2,3,0,2,3,0,1,24,0,1,3,1,0,1,21,0,1,2,0,45]\n",
    "# list1.sort()\n",
    "# print(list1)\n",
    "# Output\n",
    "# [ 1, 1, 1, 1, 1, 1, 2, 2, 2, 3, 3, 3, 21, 24, 45,0, 0, 0, 0, 0, 0]\n",
    "\n",
    "# Function to append all zeros at the end  \n",
    "# of array \n",
    "def moveZeros(arr): \n",
    "    arr.sort() \n",
    "    # first expression returns a list of \n",
    "    # all non zero elements in arr in the  \n",
    "    # same order they were inserted into arr \n",
    "    # second expression returns a list of  \n",
    "    # zeros present in arr \n",
    "    return [nonZero for nonZero in arr if nonZero!=0] + [Zero for Zero in arr if Zero==0]\n",
    "\n",
    "list1 = [1,2,3,0,2,3,0,1,24,0,1,3,1,0,1,21,0,1,2,0,45]\n",
    "moveZeros(list1)"
   ]
  },
  {
   "cell_type": "code",
   "execution_count": null,
   "metadata": {},
   "outputs": [],
   "source": [
    "# list1 = [(10,4),(90,3),(9,1),(10,4),(9,5)]\n",
    "# def fun1(x):\n",
    "# ????\n",
    "# list1.sort(key = fun1)\n",
    "# print (list1)"
   ]
  },
  {
   "cell_type": "code",
   "execution_count": 1,
   "metadata": {},
   "outputs": [],
   "source": []
  },
  {
   "cell_type": "code",
   "execution_count": null,
   "metadata": {},
   "outputs": [],
   "source": []
  },
  {
   "cell_type": "code",
   "execution_count": null,
   "metadata": {},
   "outputs": [],
   "source": []
  }
 ],
 "metadata": {
  "kernelspec": {
   "display_name": "Python 3",
   "language": "python",
   "name": "python3"
  },
  "language_info": {
   "codemirror_mode": {
    "name": "ipython",
    "version": 3
   },
   "file_extension": ".py",
   "mimetype": "text/x-python",
   "name": "python",
   "nbconvert_exporter": "python",
   "pygments_lexer": "ipython3",
   "version": "3.8.5"
  }
 },
 "nbformat": 4,
 "nbformat_minor": 4
}
